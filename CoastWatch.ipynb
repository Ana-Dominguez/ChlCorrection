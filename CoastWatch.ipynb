{
 "cells": [
  {
   "cell_type": "code",
   "execution_count": 1,
   "id": "92301f71-3eb0-4256-95a7-7cc897b312cf",
   "metadata": {},
   "outputs": [],
   "source": [
    "import numpy as np\n",
    "#np.bool = np.bool_\n",
    "import netCDF4 as nc\n",
    "import pandas as pd\n",
    "import matplotlib.pyplot as plt\n",
    "import seaborn as sns\n",
    "import scipy as scipy\n",
    "from datetime import date, timedelta, datetime\n",
    "import cartopy.crs as ccrs\n",
    "import warnings\n",
    "from mpl_toolkits.basemap import Basemap\n",
    "warnings.filterwarnings('ignore')\n",
    "from urllib.parse import quote\n",
    "import cartopy.feature as cfeature\n",
    "from cartopy.mpl.ticker import LongitudeFormatter, LatitudeFormatter"
   ]
  },
  {
   "cell_type": "markdown",
   "id": "1c6f0b8f-5db1-45ec-9a8e-a7491b2c6440",
   "metadata": {},
   "source": [
    "#### Data is 1 week: 06-30-2023 -> 07-06-2023"
   ]
  },
  {
   "cell_type": "code",
   "execution_count": 60,
   "id": "d196f53a-7d17-4297-8194-9227f654be9c",
   "metadata": {},
   "outputs": [],
   "source": [
    "satellite = pd.read_csv('chl.csv')\n",
    "units_s = satellite.iloc[0].to_numpy()\n",
    "satellite = satellite.drop(index = 0)\n",
    "satellite['chlor_a'] = pd.to_numeric(satellite['chlor_a'], errors='coerce')\n",
    "satellite['latitude'] = pd.to_numeric(satellite['latitude'], errors='coerce')\n",
    "satellite['longitude'] = pd.to_numeric(satellite['longitude'], errors='coerce')\n",
    "satellite = satellite[(satellite.get('chlor_a') >= 0) | (satellite.get('chlor_a') < 0)]"
   ]
  },
  {
   "cell_type": "code",
   "execution_count": 75,
   "id": "6ea49ac7-1c3f-457d-afb4-28eca6eabef1",
   "metadata": {},
   "outputs": [
    {
     "data": {
      "text/html": [
       "<div>\n",
       "<style scoped>\n",
       "    .dataframe tbody tr th:only-of-type {\n",
       "        vertical-align: middle;\n",
       "    }\n",
       "\n",
       "    .dataframe tbody tr th {\n",
       "        vertical-align: top;\n",
       "    }\n",
       "\n",
       "    .dataframe thead th {\n",
       "        text-align: right;\n",
       "    }\n",
       "</style>\n",
       "<table border=\"1\" class=\"dataframe\">\n",
       "  <thead>\n",
       "    <tr style=\"text-align: right;\">\n",
       "      <th></th>\n",
       "      <th>time</th>\n",
       "      <th>latitude</th>\n",
       "      <th>longitude</th>\n",
       "      <th>chlor_a</th>\n",
       "    </tr>\n",
       "  </thead>\n",
       "  <tbody>\n",
       "    <tr>\n",
       "      <th>1538</th>\n",
       "      <td>2023-06-30T00:00:00Z</td>\n",
       "      <td>35.145833</td>\n",
       "      <td>-120.770833</td>\n",
       "      <td>9.739783</td>\n",
       "    </tr>\n",
       "    <tr>\n",
       "      <th>1539</th>\n",
       "      <td>2023-06-30T00:00:00Z</td>\n",
       "      <td>35.145833</td>\n",
       "      <td>-120.729167</td>\n",
       "      <td>9.559745</td>\n",
       "    </tr>\n",
       "    <tr>\n",
       "      <th>1902</th>\n",
       "      <td>2023-06-30T00:00:00Z</td>\n",
       "      <td>35.062500</td>\n",
       "      <td>-120.687500</td>\n",
       "      <td>8.422530</td>\n",
       "    </tr>\n",
       "    <tr>\n",
       "      <th>1903</th>\n",
       "      <td>2023-06-30T00:00:00Z</td>\n",
       "      <td>35.062500</td>\n",
       "      <td>-120.645833</td>\n",
       "      <td>8.422530</td>\n",
       "    </tr>\n",
       "    <tr>\n",
       "      <th>8484</th>\n",
       "      <td>2023-06-30T00:00:00Z</td>\n",
       "      <td>33.562500</td>\n",
       "      <td>-117.937500</td>\n",
       "      <td>0.572345</td>\n",
       "    </tr>\n",
       "    <tr>\n",
       "      <th>...</th>\n",
       "      <td>...</td>\n",
       "      <td>...</td>\n",
       "      <td>...</td>\n",
       "      <td>...</td>\n",
       "    </tr>\n",
       "    <tr>\n",
       "      <th>122899</th>\n",
       "      <td>2023-07-07T00:00:00Z</td>\n",
       "      <td>32.020833</td>\n",
       "      <td>-116.979167</td>\n",
       "      <td>0.498706</td>\n",
       "    </tr>\n",
       "    <tr>\n",
       "      <th>123077</th>\n",
       "      <td>2023-07-07T00:00:00Z</td>\n",
       "      <td>31.979167</td>\n",
       "      <td>-117.104167</td>\n",
       "      <td>0.157303</td>\n",
       "    </tr>\n",
       "    <tr>\n",
       "      <th>123078</th>\n",
       "      <td>2023-07-07T00:00:00Z</td>\n",
       "      <td>31.979167</td>\n",
       "      <td>-117.062500</td>\n",
       "      <td>0.206571</td>\n",
       "    </tr>\n",
       "    <tr>\n",
       "      <th>123079</th>\n",
       "      <td>2023-07-07T00:00:00Z</td>\n",
       "      <td>31.979167</td>\n",
       "      <td>-117.020833</td>\n",
       "      <td>0.341920</td>\n",
       "    </tr>\n",
       "    <tr>\n",
       "      <th>123080</th>\n",
       "      <td>2023-07-07T00:00:00Z</td>\n",
       "      <td>31.979167</td>\n",
       "      <td>-116.979167</td>\n",
       "      <td>0.341920</td>\n",
       "    </tr>\n",
       "  </tbody>\n",
       "</table>\n",
       "<p>1342 rows × 4 columns</p>\n",
       "</div>"
      ],
      "text/plain": [
       "                        time   latitude   longitude   chlor_a\n",
       "1538    2023-06-30T00:00:00Z  35.145833 -120.770833  9.739783\n",
       "1539    2023-06-30T00:00:00Z  35.145833 -120.729167  9.559745\n",
       "1902    2023-06-30T00:00:00Z  35.062500 -120.687500  8.422530\n",
       "1903    2023-06-30T00:00:00Z  35.062500 -120.645833  8.422530\n",
       "8484    2023-06-30T00:00:00Z  33.562500 -117.937500  0.572345\n",
       "...                      ...        ...         ...       ...\n",
       "122899  2023-07-07T00:00:00Z  32.020833 -116.979167  0.498706\n",
       "123077  2023-07-07T00:00:00Z  31.979167 -117.104167  0.157303\n",
       "123078  2023-07-07T00:00:00Z  31.979167 -117.062500  0.206571\n",
       "123079  2023-07-07T00:00:00Z  31.979167 -117.020833  0.341920\n",
       "123080  2023-07-07T00:00:00Z  31.979167 -116.979167  0.341920\n",
       "\n",
       "[1342 rows x 4 columns]"
      ]
     },
     "execution_count": 75,
     "metadata": {},
     "output_type": "execute_result"
    }
   ],
   "source": [
    "satellite"
   ]
  },
  {
   "cell_type": "markdown",
   "id": "caed51aa-5e7f-4d7d-bd47-5d1ce902203a",
   "metadata": {},
   "source": [
    "#### Line 90 didn't have chl data for the time period I looked at so I switched to 80"
   ]
  },
  {
   "cell_type": "code",
   "execution_count": 64,
   "id": "116cecd6-00bb-48bd-a68f-b6b4a604be25",
   "metadata": {},
   "outputs": [],
   "source": [
    "glider = pd.read_csv('line80.csv')\n",
    "units_g = glider.iloc[0].to_numpy()\n",
    "glider = glider.drop(index = 0)\n",
    "glider = glider[glider.get('depth') == '10.0']\n",
    "glider['depth'] = pd.to_numeric(glider['depth'], errors='coerce')\n",
    "glider['chlorophyll'] = pd.to_numeric(glider['chlorophyll'], errors='coerce')\n",
    "glider['latitude'] = pd.to_numeric(glider['latitude'], errors='coerce')\n",
    "glider['longitude'] = pd.to_numeric(glider['longitude'], errors='coerce')\n",
    "glider['profile'] = pd.to_numeric(glider['profile'], errors='coerce')\n",
    "glider = glider[(glider.get('chlorophyll') >= 0) | (glider.get('chlorophyll') < 0)]"
   ]
  },
  {
   "cell_type": "code",
   "execution_count": null,
   "id": "5c848944-9fa6-4811-8a27-c97bb5250fb8",
   "metadata": {},
   "outputs": [],
   "source": [
    "print('latitude range', round(glider.latitude.min(), 2), round(glider.latitude.max(), 2))\n",
    "print('longitude range', round(glider.longitude.min(), 2), round(glider.longitude.max(), 2))"
   ]
  },
  {
   "cell_type": "code",
   "execution_count": 76,
   "id": "4f6888ae-f5e8-473c-8a23-1e1bf2b39050",
   "metadata": {},
   "outputs": [
    {
     "data": {
      "text/html": [
       "<div>\n",
       "<style scoped>\n",
       "    .dataframe tbody tr th:only-of-type {\n",
       "        vertical-align: middle;\n",
       "    }\n",
       "\n",
       "    .dataframe tbody tr th {\n",
       "        vertical-align: top;\n",
       "    }\n",
       "\n",
       "    .dataframe thead th {\n",
       "        text-align: right;\n",
       "    }\n",
       "</style>\n",
       "<table border=\"1\" class=\"dataframe\">\n",
       "  <thead>\n",
       "    <tr style=\"text-align: right;\">\n",
       "      <th></th>\n",
       "      <th>profile</th>\n",
       "      <th>depth</th>\n",
       "      <th>time</th>\n",
       "      <th>latitude</th>\n",
       "      <th>longitude</th>\n",
       "      <th>chlorophyll</th>\n",
       "    </tr>\n",
       "  </thead>\n",
       "  <tbody>\n",
       "    <tr>\n",
       "      <th>1</th>\n",
       "      <td>55817.0</td>\n",
       "      <td>10.0</td>\n",
       "      <td>2023-06-30T00:52:25Z</td>\n",
       "      <td>34.257207</td>\n",
       "      <td>-120.555730</td>\n",
       "      <td>1.642615</td>\n",
       "    </tr>\n",
       "    <tr>\n",
       "      <th>2</th>\n",
       "      <td>55818.0</td>\n",
       "      <td>10.0</td>\n",
       "      <td>2023-06-30T03:58:54Z</td>\n",
       "      <td>34.250090</td>\n",
       "      <td>-120.537525</td>\n",
       "      <td>1.563600</td>\n",
       "    </tr>\n",
       "    <tr>\n",
       "      <th>3</th>\n",
       "      <td>55819.0</td>\n",
       "      <td>10.0</td>\n",
       "      <td>2023-06-30T07:00:14Z</td>\n",
       "      <td>34.248537</td>\n",
       "      <td>-120.516155</td>\n",
       "      <td>1.898000</td>\n",
       "    </tr>\n",
       "    <tr>\n",
       "      <th>4</th>\n",
       "      <td>55820.0</td>\n",
       "      <td>10.0</td>\n",
       "      <td>2023-06-30T09:56:10Z</td>\n",
       "      <td>34.247850</td>\n",
       "      <td>-120.487242</td>\n",
       "      <td>1.721250</td>\n",
       "    </tr>\n",
       "    <tr>\n",
       "      <th>5</th>\n",
       "      <td>55821.0</td>\n",
       "      <td>10.0</td>\n",
       "      <td>2023-06-30T12:45:24Z</td>\n",
       "      <td>34.246130</td>\n",
       "      <td>-120.458277</td>\n",
       "      <td>1.534091</td>\n",
       "    </tr>\n",
       "    <tr>\n",
       "      <th>...</th>\n",
       "      <td>...</td>\n",
       "      <td>...</td>\n",
       "      <td>...</td>\n",
       "      <td>...</td>\n",
       "      <td>...</td>\n",
       "      <td>...</td>\n",
       "    </tr>\n",
       "    <tr>\n",
       "      <th>57</th>\n",
       "      <td>55873.0</td>\n",
       "      <td>10.0</td>\n",
       "      <td>2023-07-06T11:53:22Z</td>\n",
       "      <td>34.298390</td>\n",
       "      <td>-119.810950</td>\n",
       "      <td>5.600700</td>\n",
       "    </tr>\n",
       "    <tr>\n",
       "      <th>58</th>\n",
       "      <td>55874.0</td>\n",
       "      <td>10.0</td>\n",
       "      <td>2023-07-06T13:13:35Z</td>\n",
       "      <td>34.298135</td>\n",
       "      <td>-119.805110</td>\n",
       "      <td>7.379100</td>\n",
       "    </tr>\n",
       "    <tr>\n",
       "      <th>59</th>\n",
       "      <td>55875.0</td>\n",
       "      <td>10.0</td>\n",
       "      <td>2023-07-06T14:12:05Z</td>\n",
       "      <td>34.298100</td>\n",
       "      <td>-119.799685</td>\n",
       "      <td>6.933667</td>\n",
       "    </tr>\n",
       "    <tr>\n",
       "      <th>60</th>\n",
       "      <td>55876.0</td>\n",
       "      <td>10.0</td>\n",
       "      <td>2023-07-06T15:03:00Z</td>\n",
       "      <td>34.298070</td>\n",
       "      <td>-119.794140</td>\n",
       "      <td>7.378333</td>\n",
       "    </tr>\n",
       "    <tr>\n",
       "      <th>61</th>\n",
       "      <td>55877.0</td>\n",
       "      <td>10.0</td>\n",
       "      <td>2023-07-06T15:52:36Z</td>\n",
       "      <td>34.297805</td>\n",
       "      <td>-119.788413</td>\n",
       "      <td>7.211667</td>\n",
       "    </tr>\n",
       "  </tbody>\n",
       "</table>\n",
       "<p>61 rows × 6 columns</p>\n",
       "</div>"
      ],
      "text/plain": [
       "    profile  depth                  time   latitude   longitude  chlorophyll\n",
       "1   55817.0   10.0  2023-06-30T00:52:25Z  34.257207 -120.555730     1.642615\n",
       "2   55818.0   10.0  2023-06-30T03:58:54Z  34.250090 -120.537525     1.563600\n",
       "3   55819.0   10.0  2023-06-30T07:00:14Z  34.248537 -120.516155     1.898000\n",
       "4   55820.0   10.0  2023-06-30T09:56:10Z  34.247850 -120.487242     1.721250\n",
       "5   55821.0   10.0  2023-06-30T12:45:24Z  34.246130 -120.458277     1.534091\n",
       "..      ...    ...                   ...        ...         ...          ...\n",
       "57  55873.0   10.0  2023-07-06T11:53:22Z  34.298390 -119.810950     5.600700\n",
       "58  55874.0   10.0  2023-07-06T13:13:35Z  34.298135 -119.805110     7.379100\n",
       "59  55875.0   10.0  2023-07-06T14:12:05Z  34.298100 -119.799685     6.933667\n",
       "60  55876.0   10.0  2023-07-06T15:03:00Z  34.298070 -119.794140     7.378333\n",
       "61  55877.0   10.0  2023-07-06T15:52:36Z  34.297805 -119.788413     7.211667\n",
       "\n",
       "[61 rows x 6 columns]"
      ]
     },
     "execution_count": 76,
     "metadata": {},
     "output_type": "execute_result"
    }
   ],
   "source": [
    "glider"
   ]
  },
  {
   "cell_type": "markdown",
   "id": "f5b0a845-44f9-4f9c-91eb-88d971cde8ab",
   "metadata": {},
   "source": [
    "#### Plot glider track"
   ]
  },
  {
   "cell_type": "code",
   "execution_count": null,
   "id": "83fda68e-648e-4d8b-9339-21ec284aedba",
   "metadata": {},
   "outputs": [],
   "source": [
    "plt.figure(figsize=(14, 10))\n",
    "ax1 = plt.axes(projection=ccrs.PlateCarree(central_longitude=180))\n",
    "ax1.set_extent([239, 241, 33, 35], ccrs.PlateCarree())\n",
    "ax1.set_xticks(range(240, 241, 1), crs=ccrs.PlateCarree())\n",
    "ax1.set_yticks(range(33, 35, 1), crs=ccrs.PlateCarree())\n",
    "\n",
    "# add feature to the map\n",
    "ax1.add_feature(cfeature.LAND, facecolor='0.6')\n",
    "ax1.coastlines()\n",
    "\n",
    "# format the lat and lon axis labels\n",
    "lon_formatter = LongitudeFormatter(zero_direction_label=True)\n",
    "lat_formatter = LatitudeFormatter()\n",
    "ax1.xaxis.set_major_formatter(lon_formatter)\n",
    "ax1.yaxis.set_major_formatter(lat_formatter)\n",
    "\n",
    "# bring the lon and lat data into a numpy array \n",
    "x, y = glider.longitude.to_numpy(), glider.latitude.to_numpy()\n",
    "\n",
    "ax1 = plt.plot(x, y, transform=ccrs.PlateCarree(), color='k')\n",
    "# start point in green star\n",
    "ax1 = plt.plot(x[0], y[0],\n",
    "               marker='*',\n",
    "               color='g',\n",
    "               transform=ccrs.PlateCarree(),\n",
    "               markersize=10)\n",
    "# end point in red X\n",
    "ax1 = plt.plot(x[-1], y[-1],\n",
    "               marker='X',\n",
    "               color='r',\n",
    "               transform=ccrs.PlateCarree(),\n",
    "               markersize=10)\n",
    "plt.title('Glider Line #80\\nPoint Conception, CA', fontsize=20)\n",
    "\n",
    "plt.show()"
   ]
  },
  {
   "cell_type": "code",
   "execution_count": null,
   "id": "dabbed97-5715-4df3-bd68-057360033ec0",
   "metadata": {},
   "outputs": [],
   "source": [
    "glider['date'] = glider['datetime'].dt.date\n",
    "glider['time'] = glider['datetime'].dt.time\n",
    "glider[['longitude_str', 'latitude_str', 'date_str']] = glider[['longitude', 'latitude', 'date']].to_numpy(dtype=str)"
   ]
  },
  {
   "cell_type": "markdown",
   "id": "8cd5acd5-ff98-4802-822f-6ee98fc18e9b",
   "metadata": {},
   "source": [
    "#### Request best spatial + temporal matchups"
   ]
  },
  {
   "cell_type": "code",
   "execution_count": null,
   "id": "bdabc934-1c77-4221-83b6-600bf9fda87c",
   "metadata": {},
   "outputs": [],
   "source": [
    "col_names = [\"iso_date\", \"matched_lat\", \"matched_lon\", \"matched_chla\"]\n",
    "tot = pd.DataFrame(columns=col_names)\n",
    "\n",
    "# create variables for the unchanging parts of the ERDDAP data-request URL. \n",
    "base_url = 'https://coastwatch.pfeg.noaa.gov/erddap/griddap/'\n",
    "dataset_id = \"pmlEsaCCI60OceanColorDaily\"\n",
    "file_type = '.csv'\n",
    "query_start = '?'\n",
    "erddap_variable = 'chlor_a'\n",
    "\n",
    "# create the start of the ERDDAP data-request URL by joining URL components\n",
    "start_url = ''.join([base_url,\n",
    "                     dataset_id,\n",
    "                     file_type,\n",
    "                     query_start,\n",
    "                     erddap_variable\n",
    "                     ])\n",
    "\n",
    "# Finish each URL and download\n",
    "for i in range(0, len(glider)):\n",
    "    # for each row in the track data frame, create the query part of the ERDDAP data-request URL.\n",
    "    query_url = ''.join([\n",
    "                         '[(' + glider['date_str'].to_numpy()[i] + '):1:(' + glider['date_str'].to_numpy()[i] + ')]',\n",
    "                         '[(' + glider['latitude_str'].to_numpy()[i] + '):1:(' + glider['latitude_str'].to_numpy()[i] + ')]', \n",
    "                         '[(' + glider['longitude_str'].to_numpy()[i] + '):1:(' + glider['longitude_str'].to_numpy()[i] + ')]'\n",
    "                         ])\n",
    "    encoded_query = quote(query_url, safe='')\n",
    "\n",
    "    # join the start and query parts of the url\n",
    "    url = start_url + encoded_query\n",
    "    print(i+1, 'of', len(glider), url)\n",
    "\n",
    "    # download the data as a CSV file directly into Pandas\n",
    "    new = pd.read_csv(url, skiprows=1)\n",
    "    new.columns = col_names\n",
    "    \n",
    "    # load into the holding data frame\n",
    "    tot = pd.concat([tot, new], ignore_index=True)"
   ]
  },
  {
   "cell_type": "markdown",
   "id": "823631c6-5aa0-454d-a667-d7576c9e4a8b",
   "metadata": {},
   "source": [
    "#### No non-NaN chl values in matchups"
   ]
  },
  {
   "cell_type": "code",
   "execution_count": null,
   "id": "c631e9da-0c60-4f53-b19a-aa0562ad979b",
   "metadata": {},
   "outputs": [],
   "source": [
    "tot[(tot.get('matched_chla') >= 0) | (tot.get('matched_chla') < 0)]"
   ]
  },
  {
   "cell_type": "markdown",
   "id": "13184584-0551-435d-a5a8-5b2d9ed12f99",
   "metadata": {},
   "source": [
    "#### Very close matchups"
   ]
  },
  {
   "cell_type": "code",
   "execution_count": null,
   "id": "057bb661-d018-401e-af5b-76b42d5f760a",
   "metadata": {},
   "outputs": [],
   "source": [
    "glider[['matched_lat', 'matched_lon', 'matched_chla', 'matched_time']] = tot[['matched_lat',\n",
    "                                                          'matched_lon',\n",
    "                                                          'matched_chla', 'iso_date'\n",
    "                                                          ]]"
   ]
  },
  {
   "cell_type": "markdown",
   "id": "623300ba-bc0b-4124-ac04-33a02651f2b5",
   "metadata": {},
   "source": [
    "#### Plot all satellite values during the entire week"
   ]
  },
  {
   "cell_type": "code",
   "execution_count": 91,
   "id": "7386ef08-40ca-4645-a0e9-a5d3a8a7d099",
   "metadata": {},
   "outputs": [
    {
     "data": {
      "image/png": "[encoded data removed]",
      "text/plain": [
       "<Figure size 432x288 with 2 Axes>"
      ]
     },
     "metadata": {
      "needs_background": "light"
     },
     "output_type": "display_data"
    }
   ],
   "source": [
    "#latitude range 34.18 34.3\n",
    "#longitude range -120.56 -119.79\n",
    "m = Basemap(projection='mill',\n",
    "            llcrnrlat = 34,\n",
    "            llcrnrlon = -121,\n",
    "            urcrnrlat = 35,\n",
    "            urcrnrlon = -119,\n",
    "            resolution='l')\n",
    "m.drawcoastlines()\n",
    "m.drawcountries(linewidth=2)\n",
    "m.drawstates(color='black')\n",
    "m.drawparallels(np.arange(10,40,1),labels=[1,1,0,0])\n",
    "m.drawmeridians(np.arange(230,260,1),labels=[0,0,0,1])\n",
    "x, y = m(satellite['longitude'].values, satellite['latitude'].values)\n",
    "m.scatter(x, y, c=satellite['chlor_a'].values, cmap='viridis', marker='o', alpha=0.7)\n",
    "plt.colorbar(label='Chlorophyll (mg/m3)')\n",
    "plt.title('Satellite')#filename+\"\\nChange in ppt over 30yrs\\n+0.33mm/day\")\n",
    "plt.show()"
   ]
  },
  {
   "cell_type": "markdown",
   "id": "a9769cb9-1001-46c4-a5e0-6368f86ee251",
   "metadata": {},
   "source": [
    "#### Quick comparison of satellite and glider -- glider seems to have higher values?"
   ]
  },
  {
   "cell_type": "code",
   "execution_count": 99,
   "id": "384c6f9d-a4b5-47cc-9c97-156f9e25c3f9",
   "metadata": {},
   "outputs": [
    {
     "data": {
      "text/plain": [
       "[<matplotlib.lines.Line2D at 0x2f69c351df0>]"
      ]
     },
     "execution_count": 99,
     "metadata": {},
     "output_type": "execute_result"
    },
    {
     "data": {
      "image/png": "[encoded data removed]",
      "text/plain": [
       "<Figure size 432x288 with 1 Axes>"
      ]
     },
     "metadata": {
      "needs_background": "light"
     },
     "output_type": "display_data"
    }
   ],
   "source": [
    "satellite = satellite.reset_index()\n",
    "plt.plot(satellite.index,satellite['chlor_a'])\n",
    "plt.plot(glider.index*(1342/61),glider['chlorophyll'])"
   ]
  },
  {
   "cell_type": "markdown",
   "id": "05a29a91-7568-4b0c-999e-8bc259db570a",
   "metadata": {},
   "source": [
    "#### 61/61 matchups and very close spatially"
   ]
  },
  {
   "cell_type": "code",
   "execution_count": null,
   "id": "2c688bc4-fbf6-4064-9aca-507501097335",
   "metadata": {},
   "outputs": [],
   "source": [
    "plt.figure(figsize=(14, 10))\n",
    "\n",
    "# Label axes of a Plate Carree projection with a central longitude of 180:\n",
    "#ax1 = plt.subplot(211, projection=ccrs.PlateCarree(central_longitude=180))\n",
    "\n",
    "ax1 = plt.axes(projection=ccrs.PlateCarree(central_longitude=180))\n",
    "\n",
    "# Use the lon and lat ranges to set the extent of the map\n",
    "# the 120, 260 lon range will show the whole Pacific\n",
    "# the 15, 55 lat range with capture the range of the data\n",
    "ax1.set_extent([239, 241, 33, 35], ccrs.PlateCarree())\n",
    "\n",
    "# set the tick marks to be slightly inside the map extents\n",
    "ax1.set_xticks(range(240, 241, 1), crs=ccrs.PlateCarree())\n",
    "ax1.set_yticks(range(33, 35, 1), crs=ccrs.PlateCarree())\n",
    "\n",
    "# add feature to the map\n",
    "ax1.add_feature(cfeature.LAND, facecolor='0.6',label='_nolegend_')\n",
    "ax1.coastlines()\n",
    "# format the lat and lon axis labels\n",
    "lon_formatter = LongitudeFormatter(zero_direction_label=True)\n",
    "lat_formatter = LatitudeFormatter()\n",
    "ax1.xaxis.set_major_formatter(lon_formatter)\n",
    "ax1.yaxis.set_major_formatter(lat_formatter)\n",
    "\n",
    "# bring the lon and lat data into a numpy array \n",
    "x, y = glider.longitude.to_numpy(), glider.latitude.to_numpy()\n",
    "\n",
    "#ax1 = plt.plot(x, y, transform=ccrs.PlateCarree(), color='k')\n",
    "# start point in green star\n",
    "ax1 = plt.plot(x[0], y[0],\n",
    "               marker='*',\n",
    "               color='g',\n",
    "               transform=ccrs.PlateCarree(),\n",
    "               markersize=12,label='_nolegend_')\n",
    "# end point in red X\n",
    "ax1 = plt.plot(x[-1], y[-1],\n",
    "               marker='X',\n",
    "               color='r',\n",
    "               transform=ccrs.PlateCarree(),\n",
    "               markersize=12,label='_nolegend_')\n",
    "ax1 = plt.scatter(x, y, transform=ccrs.PlateCarree(),\n",
    "                  marker='o',\n",
    "                  color = 'k'\n",
    "                  )\n",
    "x2,y2 = glider.matched_lon.to_numpy(), glider.matched_lat.to_numpy()\n",
    "ax1 = plt.scatter(x2, y2, transform=ccrs.PlateCarree(),\n",
    "                  marker='o',\n",
    "                  color = 'b'\n",
    "                  )\n",
    "plt.title('Satellite Matchups\\nPoint Conception, CA', fontsize=20)\n",
    "plt.legend(['Land','Ocean','Glider','Satellite'])\n",
    "plt.show()"
   ]
  }
 ],
 "metadata": {
  "kernelspec": {
   "display_name": "Python 3",
   "language": "python",
   "name": "python3"
  },
  "language_info": {
   "codemirror_mode": {
    "name": "ipython",
    "version": 3
   },
   "file_extension": ".py",
   "mimetype": "text/x-python",
   "name": "python",
   "nbconvert_exporter": "python",
   "pygments_lexer": "ipython3",
   "version": "3.8.8"
  }
 },
 "nbformat": 4,
 "nbformat_minor": 5
}
